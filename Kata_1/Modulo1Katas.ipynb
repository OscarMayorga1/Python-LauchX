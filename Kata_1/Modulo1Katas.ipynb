{
 "cells": [
  {
   "cell_type": "markdown",
   "metadata": {},
   "source": [
    "# Mi Primer Programa\n",
    "El siguiente programa mostrara la fecha de hoy."
   ]
  },
  {
   "cell_type": "code",
   "execution_count": 1,
   "metadata": {},
   "outputs": [
    {
     "name": "stdout",
     "output_type": "stream",
     "text": [
      "Today's date is:  2022-02-10\n"
     ]
    }
   ],
   "source": [
    "from datetime import date\n",
    "\n",
    "today = date.today()\n",
    "\n",
    "print(\"Today's date is: \", str(today))"
   ]
  },
  {
   "cell_type": "markdown",
   "metadata": {},
   "source": [
    "## Observaciones y descripción de soluciones\n",
    "Se almaceno en today el valor que retorna la función date.today()\n",
    "y lo imprimimos dentro de print, este podia ser impreso sin la necesidad de castear,\n",
    "pero observe que es una buena practica convertir a cadena los valores que se imprimirán."
   ]
  },
  {
   "cell_type": "markdown",
   "metadata": {},
   "source": [
    "# Convertidor de unidades:\n",
    "Necesitamos construir un programa que realice la conversion entre parsecs y años luz."
   ]
  },
  {
   "cell_type": "code",
   "execution_count": 4,
   "metadata": {},
   "outputs": [
    {
     "name": "stdout",
     "output_type": "stream",
     "text": [
      "11 parsec, is 35.87716 lightyears\n"
     ]
    }
   ],
   "source": [
    "parsec =    11 \n",
    "\n",
    "lightyears = 3.26156 * parsec\n",
    "\n",
    "print(str(parsec) + \" parsec, is \" + str(\"{:.5f}\".format(lightyears))  + \" lightyears\")"
   ]
  },
  {
   "cell_type": "markdown",
   "metadata": {},
   "source": [
    "## Observaciones y descripción de soluciones\n",
    "Utilizando el Tip donde sabemos que cada parsec tiene 3.26156 años luz multiplicamos la cantidad de parsecs\n",
    "a convertir por este numero para obtener los años luz resultantes.\n",
    "\n",
    "Al imprimir salia un numero con bastantes puntos decimales, que como dato debemos respetar, para la exactitud del viaje,\n",
    "sin embargo al visualizar decidimos modificar su formato de impresión y limitarlo solo 5 decimales después del punto.\n",
    "con \"{:.5f}\".format(lightyears)"
   ]
  }
 ],
 "metadata": {
  "interpreter": {
   "hash": "cbc1630f6ac27d00c9f4ea5ff59d07a3d2920d2fb3e683b05679c37215caa53f"
  },
  "kernelspec": {
   "display_name": "Python 3.7.8 64-bit",
   "language": "python",
   "name": "python3"
  },
  "language_info": {
   "codemirror_mode": {
    "name": "ipython",
    "version": 3
   },
   "file_extension": ".py",
   "mimetype": "text/x-python",
   "name": "python",
   "nbconvert_exporter": "python",
   "pygments_lexer": "ipython3",
   "version": "3.7.8"
  },
  "orig_nbformat": 4
 },
 "nbformat": 4,
 "nbformat_minor": 2
}
